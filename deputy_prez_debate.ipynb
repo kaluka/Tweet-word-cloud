{
  "nbformat": 4,
  "nbformat_minor": 0,
  "metadata": {
    "colab": {
      "name": "deputy_prez_debate.ipynb",
      "provenance": [],
      "authorship_tag": "ABX9TyOV/PDC7ORDskQGTwrTwjco",
      "include_colab_link": true
    },
    "kernelspec": {
      "name": "python3",
      "display_name": "Python 3"
    },
    "language_info": {
      "name": "python"
    }
  },
  "cells": [
    {
      "cell_type": "markdown",
      "metadata": {
        "id": "view-in-github",
        "colab_type": "text"
      },
      "source": [
        "<a href=\"https://colab.research.google.com/github/kaluka/kaluka/blob/main/deputy_prez_debate.ipynb\" target=\"_parent\"><img src=\"https://colab.research.google.com/assets/colab-badge.svg\" alt=\"Open In Colab\"/></a>"
      ]
    },
    {
      "cell_type": "code",
      "execution_count": null,
      "metadata": {
        "id": "xlz9rbB_YeuF"
      },
      "outputs": [],
      "source": [
        ""
      ]
    }
  ]
}